{
  "nbformat": 4,
  "nbformat_minor": 0,
  "metadata": {
    "colab": {
      "name": "Torrent_to_Google_Drive_BoostUpStation.ipynb",
      "provenance": [],
      "include_colab_link": true
    },
    "kernelspec": {
      "name": "python3",
      "display_name": "Python 3"
    }
  },
  "cells": [
    {
      "cell_type": "markdown",
      "metadata": {
        "id": "view-in-github",
        "colab_type": "text"
      },
      "source": [
        "<a href=\"https://colab.research.google.com/github/sattwika/DownloaderScripts-Tools/blob/master/Torrent_to_Google_Drive_2.ipynb\" target=\"_parent\"><img src=\"https://colab.research.google.com/assets/colab-badge.svg\" alt=\"Open In Colab\"/></a>"
      ]
    },
    {
      "cell_type": "code",
      "metadata": {
        "id": "3c9P2ZRQslcm",
        "colab_type": "code",
        "colab": {}
      },
      "source": [
        "#@title TO INSTALL TORRENT CLIENT, RUN THIS SHELL\n",
        "\n",
        "!apt-get install transmission-cli\n",
        "!sudo echo \"net.core.wmem_max = 1048576\" >> /etc/sysctl.conf\n",
        "!sudo echo \"net.core.rmem_max = 4194304\" >> /etc/sysctl.conf"
      ],
      "execution_count": null,
      "outputs": []
    },
    {
      "cell_type": "code",
      "metadata": {
        "id": "cZs-LHANrUUr",
        "colab_type": "code",
        "colab": {}
      },
      "source": [
        "#@title FOR .TORRENT FILE, RUN THIS SHELL:\n",
        "\n",
        "from os import chdir\n",
        "chdir(\"/content/drive/Shared drives/Team Drive Unlimited Share\")\n",
        "!transmission-cli -D -g \"/content/drive/Shared drives/Additional Shared Drive/config\" -w \"/content/drive/Shared drives/Additional Shared Drive/shutterstock6\" Torrent-6.torrent\n"
      ],
      "execution_count": null,
      "outputs": []
    },
    {
      "cell_type": "code",
      "metadata": {
        "id": "j_bRj0C5rXqO",
        "colab_type": "code",
        "colab": {}
      },
      "source": [
        "#@title FOR MAGNET LINK, RUN THIS SHELL:\n",
        "\n",
        "!transmission-cli -D -g \"/content/drive/Shared drives/Additional Shared Drive/config\" -w \"/content/drive/Shared drives/Additional Shared Drive/shutterstock6\" MAGNET_LINK_HERE"
      ],
      "execution_count": null,
      "outputs": []
    }
  ]
}